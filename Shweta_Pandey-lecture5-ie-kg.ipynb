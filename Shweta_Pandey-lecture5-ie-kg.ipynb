{
 "cells": [
  {
   "cell_type": "markdown",
   "metadata": {},
   "source": [
    "# Knowledge Engineering and Digital Humanities (SoSe 2020)"
   ]
  },
  {
   "cell_type": "markdown",
   "metadata": {},
   "source": [
    "---"
   ]
  },
  {
   "cell_type": "markdown",
   "metadata": {},
   "source": [
    "## Exercise 5.3 - Information Extraction and Knowledge Graphs"
   ]
  },
  {
   "cell_type": "markdown",
   "metadata": {},
   "source": [
    "#### M.Sc. Erasmo Purificato"
   ]
  },
  {
   "cell_type": "markdown",
   "metadata": {},
   "source": [
    "---"
   ]
  },
  {
   "cell_type": "code",
   "execution_count": 38,
   "metadata": {},
   "outputs": [],
   "source": [
    "import nltk\n",
    "import spacy\n",
    "from spacy.lang.en import English\n",
    "import networkx as nx\n",
    "import matplotlib.pyplot as plt"
   ]
  },
  {
   "cell_type": "code",
   "execution_count": 39,
   "metadata": {},
   "outputs": [],
   "source": [
    "# Install the spaCy's model for English\n",
    "# !python -m spacy download en_core_web_sm"
   ]
  },
  {
   "cell_type": "code",
   "execution_count": 40,
   "metadata": {},
   "outputs": [],
   "source": [
    "nlp_model = spacy.load(\"en_core_web_sm\") # load spaCy's model for English"
   ]
  },
  {
   "cell_type": "code",
   "execution_count": 41,
   "metadata": {},
   "outputs": [],
   "source": [
    "text = \"London is the capital and largest city of England and the United Kingdom. Standing on the River \" \\\n",
    "        \"Thames in the south-east of England, at the head of its 50-mile (80 km) estuary leading to \" \\\n",
    "        \"the North Sea, London has been a major settlement for two millennia. \" \\\n",
    "        \"Londinium was founded by the Romans. The City of London, \" \\\n",
    "        \"London's ancient core − an area of just 1.12 square miles (2.9 km2) and colloquially known as \" \\\n",
    "        \"the Square Mile − retains boundaries that follow closely its medieval limits.\" \\\n",
    "        \"The City of Westminster is also an Inner London borough holding city status. \" \\\n",
    "        \"Greater London is governed by the Mayor of London and the London Assembly.\" \\\n",
    "        \"London is located in the southeast of England.\" \\\n",
    "        \"Westminster is located in London.\" \\\n",
    "        \"London is the biggest city in Britain. London has a population of 7,172,036.\""
   ]
  },
  {
   "cell_type": "code",
   "execution_count": 42,
   "metadata": {},
   "outputs": [],
   "source": [
    "def get_sentences(text):\n",
    "    nlp_model.add_pipe(\"sentencizer\")\n",
    "    doc = nlp_model(text)\n",
    "    return[str(sent).strip() for sent in doc.sents]\n",
    "\n",
    "    # WRITE YOUR CODE - Use spaCy to split the text in sentences"
   ]
  },
  {
   "cell_type": "code",
   "execution_count": 43,
   "metadata": {},
   "outputs": [],
   "source": [
    "# DON'T DO ANYTHING\n",
    "def print_token(token):\n",
    "    print(token.text, \"->\", token.dep_)\n",
    "\n",
    "def append_chunk(original, chunk):\n",
    "    return original + ' ' + chunk\n",
    "\n",
    "def is_relation_candidate(token):\n",
    "    deps = [\"ROOT\", \"adj\", \"attr\", \"agent\", \"amod\"]\n",
    "    return any(subs in token.dep_ for subs in deps)\n",
    "\n",
    "def is_construction_candidate(token):\n",
    "    deps = [\"compound\", \"prep\", \"conj\", \"mod\"]\n",
    "    return any(subs in token.dep_ for subs in deps)"
   ]
  },
  {
   "cell_type": "code",
   "execution_count": 44,
   "metadata": {},
   "outputs": [],
   "source": [
    "# COMMENT THE FOLLOWING FUNCTION\n",
    "def process_subject_object_pairs(tokens):\n",
    "    subject = ''\n",
    "    object = ''\n",
    "    relation = ''\n",
    "    subject_construction = ''\n",
    "    object_construction = ''\n",
    "    for token in tokens:\n",
    "        print_token(token)\n",
    "        if \"punct\" in token.dep_:\n",
    "            continue\n",
    "        if is_relation_candidate(token):\n",
    "            relation = append_chunk(relation, token.lemma_)\n",
    "        if is_construction_candidate(token):\n",
    "            if subject_construction:\n",
    "                subject_construction = append_chunk(subject_construction, token.text)\n",
    "            if object_construction:\n",
    "                object_construction = append_chunk(object_construction, token.text)\n",
    "        if \"subj\" in token.dep_:\n",
    "            subject = append_chunk(subject, token.text)\n",
    "            subject = append_chunk(subject_construction, subject)\n",
    "            subject_construction = ''\n",
    "        if \"obj\" in token.dep_:\n",
    "            object = append_chunk(object, token.text)\n",
    "            object = append_chunk(object_construction, object)\n",
    "            object_construction = ''\n",
    "\n",
    "    print (subject.strip(), \",\", relation.strip(), \",\", object.strip())\n",
    "    return (subject.strip(), relation.strip(), object.strip())\n",
    " "
   ]
  },
  {
   "cell_type": "code",
   "execution_count": 45,
   "metadata": {},
   "outputs": [],
   "source": [
    "import networkx as nx\n",
    "\n",
    "def print_graph(triples):\n",
    "    G = nx.Graph()\n",
    "    for triple in triples:\n",
    "        G.add_node(triple[0])\n",
    "        G.add_node(triple[1])\n",
    "        G.add_node(triple[2])\n",
    "        G.add_edge(triple[0], triple[1])\n",
    "        G.add_edge(triple[1], triple[2])\n",
    "\n",
    "    pos = nx.spring_layout(G)\n",
    "    plt.figure()\n",
    "    nx.draw(G, pos, edge_color='blue', width=1, linewidths=1,\n",
    "            node_size=500, node_color='green', alpha=0.7,\n",
    "            labels={node: node for node in G.nodes()})\n",
    "    plt.axis('off')\n",
    "    plt.show() \n",
    "    \n",
    "    \n",
    "    # WRITE YOUR CODE - Use NetworkX to build and show the knowledge graph"
   ]
  },
  {
   "cell_type": "code",
   "execution_count": 46,
   "metadata": {},
   "outputs": [],
   "source": [
    "def process_sentence(sentence):\n",
    "    tokens = nlp_model(sentence)\n",
    "    return process_subject_object_pairs(tokens)"
   ]
  },
  {
   "cell_type": "code",
   "execution_count": 47,
   "metadata": {},
   "outputs": [
    {
     "name": "stdout",
     "output_type": "stream",
     "text": [
      "London -> nsubj\n",
      "is -> ROOT\n",
      "the -> det\n",
      "capital -> attr\n",
      "and -> cc\n",
      "largest -> amod\n",
      "city -> conj\n",
      "of -> prep\n",
      "England -> pobj\n",
      "and -> cc\n",
      "the -> det\n",
      "United -> compound\n",
      "Kingdom -> conj\n",
      ". -> punct\n",
      "London , be capital large , England\n",
      "Standing -> advcl\n",
      "on -> prep\n",
      "the -> det\n",
      "River -> compound\n",
      "Thames -> pobj\n",
      "in -> prep\n",
      "the -> det\n",
      "south -> compound\n",
      "- -> punct\n",
      "east -> pobj\n",
      "of -> prep\n",
      "England -> pobj\n",
      ", -> punct\n",
      "at -> prep\n",
      "the -> det\n",
      "head -> pobj\n",
      "of -> prep\n",
      "its -> poss\n",
      "50 -> nummod\n",
      "- -> punct\n",
      "mile -> nmod\n",
      "( -> punct\n",
      "80 -> nummod\n",
      "km -> pobj\n",
      ") -> punct\n",
      "estuary -> dep\n",
      "leading -> xcomp\n",
      "to -> prep\n",
      "the -> det\n",
      "North -> compound\n",
      "Sea -> pobj\n",
      ", -> punct\n",
      "London -> nsubj\n",
      "has -> aux\n",
      "been -> ROOT\n",
      "a -> det\n",
      "major -> amod\n",
      "settlement -> attr\n",
      "for -> prep\n",
      "two -> nummod\n",
      "millennia -> pobj\n",
      ". -> punct\n",
      "London , be major settlement , Thames east England head km Sea millennia\n",
      "Londinium -> nsubjpass\n",
      "was -> auxpass\n",
      "founded -> ROOT\n",
      "by -> agent\n",
      "the -> det\n",
      "Romans -> pobj\n",
      ". -> punct\n",
      "Londinium , found by , Romans\n",
      "The -> det\n",
      "City -> nsubj\n",
      "of -> prep\n",
      "London -> pobj\n",
      ", -> punct\n",
      "London -> poss\n",
      "'s -> case\n",
      "ancient -> amod\n",
      "core -> compound\n",
      "− -> appos\n",
      "an -> det\n",
      "area -> appos\n",
      "of -> prep\n",
      "just -> advmod\n",
      "1.12 -> nummod\n",
      "square -> amod\n",
      "miles -> pobj\n",
      "( -> punct\n",
      "2.9 -> nummod\n",
      "km2 -> appos\n",
      ") -> punct\n",
      "and -> cc\n",
      "colloquially -> advmod\n",
      "known -> conj\n",
      "as -> prep\n",
      "the -> det\n",
      "Square -> compound\n",
      "Mile -> compound\n",
      "− -> pobj\n",
      "retains -> ROOT\n",
      "boundaries -> dobj\n",
      "that -> nsubj\n",
      "follow -> relcl\n",
      "closely -> advmod\n",
      "its -> poss\n",
      "medieval -> amod\n",
      "limits -> dobj\n",
      ". -> punct\n",
      "City that , ancient square retain medieval , London miles − boundaries limits\n",
      "The -> det\n",
      "City -> nsubj\n",
      "of -> prep\n",
      "Westminster -> pobj\n",
      "is -> ROOT\n",
      "also -> advmod\n",
      "an -> det\n",
      "Inner -> nmod\n",
      "London -> nmod\n",
      "borough -> npadvmod\n",
      "holding -> amod\n",
      "city -> compound\n",
      "status -> attr\n",
      ". -> punct\n",
      "City , be hold status , Westminster\n",
      "Greater -> compound\n",
      "London -> nsubjpass\n",
      "is -> auxpass\n",
      "governed -> ROOT\n",
      "by -> agent\n",
      "the -> det\n",
      "Mayor -> pobj\n",
      "of -> prep\n",
      "London -> pobj\n",
      "and -> cc\n",
      "the -> det\n",
      "London -> compound\n",
      "Assembly -> conj\n",
      ". -> punct\n",
      "London , govern by , Mayor London\n",
      "London -> nsubjpass\n",
      "is -> auxpass\n",
      "located -> ROOT\n",
      "in -> prep\n",
      "the -> det\n",
      "southeast -> pobj\n",
      "of -> prep\n",
      "England -> pobj\n",
      ". -> punct\n",
      "London , locate , southeast England\n",
      "Westminster -> nsubjpass\n",
      "is -> auxpass\n",
      "located -> ROOT\n",
      "in -> prep\n",
      "London -> pobj\n",
      ". -> punct\n",
      "Westminster , locate , London\n",
      "London -> nsubj\n",
      "is -> ROOT\n",
      "the -> det\n",
      "biggest -> amod\n",
      "city -> attr\n",
      "in -> prep\n",
      "Britain -> pobj\n",
      ". -> punct\n",
      "London , be big city , Britain\n",
      "London -> nsubj\n",
      "has -> ROOT\n",
      "a -> det\n",
      "population -> dobj\n",
      "of -> prep\n",
      "7,172,036 -> pobj\n",
      ". -> punct\n",
      "London , have , population 7,172,036\n"
     ]
    },
    {
     "data": {
      "image/png": "[encoded data removed]",
      "text/plain": [
       "<Figure size 432x288 with 1 Axes>"
      ]
     },
     "metadata": {},
     "output_type": "display_data"
    }
   ],
   "source": [
    "sentences = get_sentences(text)\n",
    "\n",
    "triples = []\n",
    "for s in sentences:\n",
    "    triples.append(process_sentence(s))\n",
    "    \n",
    "print_graph(triples)"
   ]
  },
  {
   "cell_type": "code",
   "execution_count": null,
   "metadata": {},
   "outputs": [],
   "source": []
  },
  {
   "cell_type": "code",
   "execution_count": null,
   "metadata": {},
   "outputs": [],
   "source": []
  },
  {
   "cell_type": "code",
   "execution_count": null,
   "metadata": {},
   "outputs": [],
   "source": []
  }
 ],
 "metadata": {
  "kernelspec": {
   "display_name": "Python 3",
   "language": "python",
   "name": "python3"
  },
  "language_info": {
   "codemirror_mode": {
    "name": "ipython",
    "version": 3
   },
   "file_extension": ".py",
   "mimetype": "text/x-python",
   "name": "python",
   "nbconvert_exporter": "python",
   "pygments_lexer": "ipython3",
   "version": "3.7.4"
  }
 },
 "nbformat": 4,
 "nbformat_minor": 4
}
